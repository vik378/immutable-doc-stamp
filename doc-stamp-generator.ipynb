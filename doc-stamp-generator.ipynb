{
 "cells": [
  {
   "cell_type": "markdown",
   "metadata": {},
   "source": [
    "# Intro\n",
    "\n",
    "This notebook guides you through the method for generating an immutable doc stamp\n",
    "\n",
    "# Background\n",
    "\n",
    "Even though there are electronic signatures out there paper print-and-sign documents still have legal value however do lack means for protection from tampering.\n",
    "\n",
    "While signing a multi-page document, unless it is signed on every page - there is a risk of unapproved change to unsigned pages - when somebody prints a page that looks and feels the same but has slightly different contents and so makes it looked like you signed up for something that you actually have never seen before.\n",
    "\n",
    "To reduce such risk / make such a tampering / forgery attack significantly more difficult one could add an electronic checksum on every single page of the to-be signed (printed-and-signed) document. The last page (with signatures) then may feature the same checksum + a QR code to facilitate checksum transfer for contents validation.\n",
    "\n",
    "As documents sometimes feature a lot of formatting this method will work best with plain text or markdown serializations. The checksum stamp shall indicate what serialization method and checksum algorithm were used.\n",
    "\n",
    "# Input serialized text to be protected\n",
    "\n",
    "You may replace the below example with own text to be protected. Please make a note of serialization method - this is important for whoever will try to check if the document was tampered."
   ]
  },
  {
   "cell_type": "code",
   "execution_count": 11,
   "metadata": {},
   "outputs": [],
   "source": [
    "SERIALIZATION_METHOD = \"plain-text\"  #  = \"markdown\"\n",
    "SERIALIZED_TEXT = \"\"\"\n",
    "---START-OF-PROTECTED-TEXT---\n",
    "This is the text that we will compute the checksum for.\n",
    "\n",
    "The text may be as long as you like - the important thing though is ability to reproduce same serialized text from the origin or paper copy.\n",
    "\n",
    "The serialized text should also exclude any sort of headers / footers / signature placeholders - only headings, paragraphs, unordered or ordered lists and markdown-serializable tables are allowed.\n",
    "\n",
    "Where possible it is also a good practice to insert a visual anchor in the original document indicating ---START-OF-PROTECTED-CONTENTS--- and ---END-OF-PROTECTED-CONTENTS---\n",
    "---END-OF-PROTECTED-TEXT---\n",
    "\"\"\""
   ]
  },
  {
   "cell_type": "markdown",
   "metadata": {},
   "source": [
    "Run the cell below and add the results into document footer **RIGHT BEFORE PRINT-FOR-SIGNATURE** -this must be the last modification of the document, any other change within protected text area will invalidate that hash (you will not be able to verify the checksum)"
   ]
  },
  {
   "cell_type": "code",
   "execution_count": 12,
   "metadata": {},
   "outputs": [
    {
     "name": "stdout",
     "output_type": "stream",
     "text": [
      "Contents of this document are check-summed using method described in https://github.com/vik378/immutable-doc-stamp. Protected text hash is 0fc514ece4eed3ca1a8fe4eba59b1764; text serialization method is: plain-text; hashing algorithm: md5; length of serialized text: 630 characters\n"
     ]
    }
   ],
   "source": [
    "import hashlib\n",
    "hash = hashlib.md5(SERIALIZED_TEXT.encode('utf-8')).hexdigest()\n",
    "print(f\"Contents of this document are check-summed using method described in https://github.com/vik378/immutable-doc-stamp. Protected text hash is {hash}; text serialization method is: {SERIALIZATION_METHOD}; hashing algorithm: md5; length of serialized text: {len(SERIALIZED_TEXT)} characters\")"
   ]
  }
 ],
 "metadata": {
  "kernelspec": {
   "display_name": "Python 3.10.6 64-bit",
   "language": "python",
   "name": "python3"
  },
  "language_info": {
   "codemirror_mode": {
    "name": "ipython",
    "version": 3
   },
   "file_extension": ".py",
   "mimetype": "text/x-python",
   "name": "python",
   "nbconvert_exporter": "python",
   "pygments_lexer": "ipython3",
   "version": "3.10.6"
  },
  "orig_nbformat": 4,
  "vscode": {
   "interpreter": {
    "hash": "aee8b7b246df8f9039afb4144a1f6fd8d2ca17a180786b69acc140d282b71a49"
   }
  }
 },
 "nbformat": 4,
 "nbformat_minor": 2
}
